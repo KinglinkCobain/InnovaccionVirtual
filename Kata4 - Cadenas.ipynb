{
 "cells": [
  {
   "cell_type": "markdown",
   "metadata": {},
   "source": [
    "# Ejercicio 1: Transformar cadenas"
   ]
  },
  {
   "cell_type": "code",
   "execution_count": 1,
   "metadata": {},
   "outputs": [],
   "source": [
    "text = \"\"\"Interesting facts about the Moon. The Moon is Earth's only satellite. There are several interesting facts about the Moon and how it affects life here on Earth. \n",
    "On average, the Moon moves 4cm away from the Earth every year. This yearly drift is not significant enough to cause immediate effects on Earth. The highest daylight temperature of the Moon is 127 C.\"\"\""
   ]
  },
  {
   "cell_type": "code",
   "execution_count": 2,
   "metadata": {},
   "outputs": [
    {
     "data": {
      "text/plain": [
       "['interesting facts about the moon',\n",
       " \"the moon is earth's only satellite\",\n",
       " 'there are several interesting facts about the moon and how it affects life here on earth',\n",
       " '\\non average, the moon moves 4cm away from the earth every year',\n",
       " 'this yearly drift is not significant enough to cause immediate effects on earth',\n",
       " 'the highest daylight temperature of the moon is 127 c.']"
      ]
     },
     "execution_count": 2,
     "metadata": {},
     "output_type": "execute_result"
    }
   ],
   "source": [
    "# Division del texto en cada oración\n",
    "splitted_text = text.lower().split('. ')\n",
    "splitted_text"
   ]
  },
  {
   "cell_type": "code",
   "execution_count": 3,
   "metadata": {},
   "outputs": [],
   "source": [
    "# Definicion de las palabras clave \"average, temperature y distance\"\n",
    "key_words = [\"average\", \"temperature\", \"only\"]"
   ]
  },
  {
   "cell_type": "code",
   "execution_count": 4,
   "metadata": {},
   "outputs": [
    {
     "name": "stdout",
     "output_type": "stream",
     "text": [
      "the moon is earth's only satellite\n",
      "\n",
      "on average, the moon moves 4cm away from the earth every year\n",
      "the highest daylight temperature of the moon is 127 c.\n"
     ]
    }
   ],
   "source": [
    "# Ciclos for que recorre las palabras separadas y las palabras clave\n",
    "for words in splitted_text:\n",
    "    for keys in key_words:\n",
    "        if keys in words:\n",
    "            print(words)"
   ]
  },
  {
   "cell_type": "code",
   "execution_count": 5,
   "metadata": {},
   "outputs": [
    {
     "name": "stdout",
     "output_type": "stream",
     "text": [
      "the moon is earth's only satellite\n",
      "\n",
      "on average, the moon moves 4cm away from the earth every year\n",
      "the highest daylight temperature of the moon is 127 c.\n"
     ]
    }
   ],
   "source": [
    "# Mismo ciclo para cambiar Celsius por C\n",
    "for words in splitted_text:\n",
    "    for keys in key_words:\n",
    "        if keys in words:\n",
    "            print(words.replace(\"C\", \"celsius\"))"
   ]
  },
  {
   "cell_type": "markdown",
   "metadata": {},
   "source": [
    "# Ejercicio 2: Formateando Cadenas"
   ]
  },
  {
   "cell_type": "code",
   "execution_count": 6,
   "metadata": {},
   "outputs": [],
   "source": [
    "# Datos con los que vas a trabajar\n",
    "name = \"Moon\"\n",
    "gravity = 0.00162 # in kms\n",
    "planet = \"Earth\""
   ]
  },
  {
   "cell_type": "code",
   "execution_count": 7,
   "metadata": {},
   "outputs": [
    {
     "data": {
      "text/plain": [
       "'Data about planet Earth and it´s satellite Moon'"
      ]
     },
     "execution_count": 7,
     "metadata": {},
     "output_type": "execute_result"
    }
   ],
   "source": [
    "# Creamos el título\n",
    "title = \"Data about planet \" + planet + \" and it´s satellite \" + name \n",
    "title"
   ]
  },
  {
   "cell_type": "code",
   "execution_count": 8,
   "metadata": {},
   "outputs": [
    {
     "data": {
      "text/plain": [
       "'Satellite: Moon\\nGravity: 1.6199999999999999 m/s2\\nPlanet: Earth\\n'"
      ]
     },
     "execution_count": 8,
     "metadata": {},
     "output_type": "execute_result"
    }
   ],
   "source": [
    "# Creamos la plantilla de hechos\n",
    "facts = f\"\"\"Satellite: {name}\n",
    "Gravity: {gravity*1000} m/s2\n",
    "Planet: {planet}\n",
    "\"\"\"\n",
    "facts"
   ]
  },
  {
   "cell_type": "code",
   "execution_count": 9,
   "metadata": {},
   "outputs": [],
   "source": [
    "# Unimos titulo y hechos\n",
    "union_template = f\"{title}\\n{facts}\""
   ]
  },
  {
   "cell_type": "code",
   "execution_count": 10,
   "metadata": {},
   "outputs": [],
   "source": [
    "# Uso de una luna diferente\n",
    "# Datos con los que vamos a trabajar\n",
    "planet  = 'Marte'\n",
    "gravity = 0.00143\n",
    "name    = 'Ganímedes'"
   ]
  },
  {
   "cell_type": "code",
   "execution_count": 11,
   "metadata": {},
   "outputs": [
    {
     "name": "stdout",
     "output_type": "stream",
     "text": [
      "Data about planet Earth and it´s satellite Moon\n",
      "Satellite: Moon\n",
      "Gravity: 1.6199999999999999 m/s2\n",
      "Planet: Earth\n",
      "\n"
     ]
    }
   ],
   "source": [
    "\n",
    "print(union_template)"
   ]
  },
  {
   "cell_type": "code",
   "execution_count": 12,
   "metadata": {},
   "outputs": [
    {
     "name": "stdout",
     "output_type": "stream",
     "text": [
      "\n",
      "Datos de la luna de marte: Ganímedes\n",
      "\n",
      "Planeta al que pertenece: Marte\n",
      "Gravedad: 1.4300000000000002 m/s2\n",
      "\n"
     ]
    }
   ],
   "source": [
    "# Creamos la plantilla con .format() y ajustamos gravedad\n",
    "formatted_template = \"\"\"\n",
    "Datos de la luna de marte: {name}\n",
    "\n",
    "Planeta al que pertenece: {planet}\n",
    "Gravedad: {gravity} m/s2\n",
    "\"\"\"\n",
    "print(formatted_template.format(name=name, planet=planet, gravity=gravity*1000))"
   ]
  }
 ],
 "metadata": {
  "interpreter": {
   "hash": "aee8b7b246df8f9039afb4144a1f6fd8d2ca17a180786b69acc140d282b71a49"
  },
  "kernelspec": {
   "display_name": "Python 3.9.5 64-bit",
   "language": "python",
   "name": "python3"
  },
  "language_info": {
   "codemirror_mode": {
    "name": "ipython",
    "version": 3
   },
   "file_extension": ".py",
   "mimetype": "text/x-python",
   "name": "python",
   "nbconvert_exporter": "python",
   "pygments_lexer": "ipython3",
   "version": "3.9.5"
  },
  "orig_nbformat": 4
 },
 "nbformat": 4,
 "nbformat_minor": 2
}
