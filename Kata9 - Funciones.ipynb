{
 "cells": [
  {
   "cell_type": "markdown",
   "metadata": {},
   "source": [
    "## Ejercicio 1: Trabajar con argumentos en funciones"
   ]
  },
  {
   "cell_type": "code",
   "execution_count": 1,
   "metadata": {},
   "outputs": [],
   "source": [
    "# Función para leer 3 tanques de combustible y muestre el promedio\n",
    "def leer_tanques (tnq_1, tnq_2, tnq_3):\n",
    "    promedio = (tnq_1 + tnq_2 + tnq_3) / 3\n",
    "    return f\"\"\"\n",
    "    El tanque 1 esta cargado con {tnq_1}l\n",
    "    El tanque 2 esta cargado con {tnq_2}l\n",
    "    El tanque 3 esta cargado con {tnq_3}l\n",
    "    De lo 3 tanques se tiene un promedio de {promedio}l\"\"\"\n"
   ]
  },
  {
   "cell_type": "code",
   "execution_count": 2,
   "metadata": {},
   "outputs": [
    {
     "name": "stdout",
     "output_type": "stream",
     "text": [
      "\n",
      "    El tanque 1 esta cargado con 0l\n",
      "    El tanque 2 esta cargado con 0l\n",
      "    El tanque 3 esta cargado con 0l\n",
      "    De lo 3 tanques se tiene un promedio de 0.0l\n"
     ]
    }
   ],
   "source": [
    "# Llamamos a la función que genera el reporte print(funcion(tanque1, tanque2, tanque3))\n",
    "print(leer_tanques (0, 0, 0)) #Tanques vacios"
   ]
  },
  {
   "cell_type": "code",
   "execution_count": 3,
   "metadata": {},
   "outputs": [],
   "source": [
    "# Función promedio\n",
    "def promedio(total_litros, num_tanques):\n",
    "    promedio_litros = total_litros / num_tanques\n",
    "    return promedio_litros\n"
   ]
  },
  {
   "cell_type": "code",
   "execution_count": 4,
   "metadata": {},
   "outputs": [],
   "source": [
    "# Actualizacion de la funcion que entrega reporte de los tanques\n",
    "def leer_tanques (tnq_1, tnq_2, tnq_3):\n",
    "    return f\"\"\"\n",
    "    El tanque 1 esta cargado con {tnq_1}l\n",
    "    El tanque 2 esta cargado con {tnq_2}l\n",
    "    El tanque 3 esta cargado con {tnq_3}l\n",
    "    De lo 3 tanques se tiene un promedio de {promedio(tnq_1+tnq_2+tnq_3, 3)}l\"\"\""
   ]
  },
  {
   "cell_type": "code",
   "execution_count": 5,
   "metadata": {},
   "outputs": [
    {
     "name": "stdout",
     "output_type": "stream",
     "text": [
      "\n",
      "    El tanque 1 esta cargado con 10l\n",
      "    El tanque 2 esta cargado con 20l\n",
      "    El tanque 3 esta cargado con 30l\n",
      "    De lo 3 tanques se tiene un promedio de 20.0l\n"
     ]
    }
   ],
   "source": [
    "# Llamamos a la función que genera el reporte \n",
    "print(leer_tanques (10, 20, 30)) #Tanques vacios"
   ]
  },
  {
   "cell_type": "markdown",
   "metadata": {},
   "source": [
    "## Ejercicio 2: Trabajo con argumentos de palabra clave\n",
    "### Trabajar con argumentos de palabras clave en funciones"
   ]
  },
  {
   "cell_type": "code",
   "execution_count": 6,
   "metadata": {},
   "outputs": [
    {
     "name": "stdout",
     "output_type": "stream",
     "text": [
      "\n",
      "    Tiempo de vuelo (min): 61\n",
      "    \t - Hora prelanzamiento: 10\n",
      "    \t - Tiempo de vuelo_ 51\n",
      "    Combustible en tanques: 140l\n",
      "    \t - Tanque interno: 40l\n",
      "    \t - Tanque externo:100l\n",
      "    ----- Destino: Luna -----\n",
      "    \n"
     ]
    }
   ],
   "source": [
    "# Función con un informe preciso de la misión. \n",
    "# Considera hora de prelanzamiento, tiempo de vuelo, destino, tanque externo y tanque interno\n",
    "\n",
    "def reporte_preciso (hora_prelanzamiento, tiempo_vuelo, destino, tanque_externo, tanque_interno):\n",
    "    return f\"\"\"\n",
    "    Tiempo de vuelo (min): {hora_prelanzamiento+tiempo_vuelo}\n",
    "    \\t - Hora prelanzamiento: {hora_prelanzamiento}\n",
    "    \\t - Tiempo de vuelo_ {tiempo_vuelo}\n",
    "    Combustible en tanques: {tanque_externo+tanque_interno}l\n",
    "    \\t - Tanque interno: {tanque_interno}l\n",
    "    \\t - Tanque externo:{tanque_externo}l\n",
    "    ----- Destino: {destino} -----\n",
    "    \"\"\"\n",
    "\n",
    "print( reporte_preciso( 10,51,\"Luna\", 100, 40 ) )"
   ]
  },
  {
   "cell_type": "code",
   "execution_count": 7,
   "metadata": {},
   "outputs": [
    {
     "name": "stdout",
     "output_type": "stream",
     "text": [
      "\n",
      "    Tiempo de vuelo (min): 60\n",
      "    Combustible en tanques: 150l\n",
      "    \n",
      "    ----- Destino: Luna -----\n",
      "    \n"
     ]
    }
   ],
   "source": [
    "# Escribe tu nueva función de reporte con argumentos de variable\n",
    "def reporte_preciso (destino, *minutes, **fuel_reservoirs):\n",
    "    return f\"\"\"\n",
    "    Tiempo de vuelo (min): {sum(minutes)}\n",
    "    Combustible en tanques: {sum(fuel_reservoirs.values())}l\n",
    "    \n",
    "    ----- Destino: {destino} -----\n",
    "    \"\"\"\n",
    "\n",
    "print( reporte_preciso( \"Luna\", 10,20,30, interno = 50, externo = 100))"
   ]
  },
  {
   "cell_type": "code",
   "execution_count": 8,
   "metadata": {},
   "outputs": [
    {
     "name": "stdout",
     "output_type": "stream",
     "text": [
      "\n",
      "    Tiempo de vuelo (min): 60\n",
      "    Combustible en tanques: 150l\n",
      "\t- Tanque interno: 50l\n",
      "\t- Tanque externo: 100l\n",
      "    ----- Destino: {destino} -----\n"
     ]
    }
   ],
   "source": [
    "# Actualiza la función para usar el nombre de cada tanque en el informe\n",
    "def reporte_preciso (destino, *minutes, **fuel_reservoirs):\n",
    "    \n",
    "    reporte = f\"\"\"\n",
    "    Tiempo de vuelo (min): {sum(minutes)}\n",
    "    Combustible en tanques: {sum(fuel_reservoirs.values())}l\"\"\"\n",
    "\n",
    "    for tanque, litros in fuel_reservoirs.items():\n",
    "        #print (f\"{tanque} - {litros}\")\n",
    "        reporte += f\"\\n\\t- Tanque {tanque}: {litros}l\"\n",
    "\n",
    "\n",
    "    reporte = reporte + \"\"\"\n",
    "    ----- Destino: {destino} -----\"\"\"\n",
    "    return reporte\n",
    "\n",
    "print( reporte_preciso( \"Luna\", 10,20,30, interno = 50, externo = 100))"
   ]
  }
 ],
 "metadata": {
  "interpreter": {
   "hash": "aee8b7b246df8f9039afb4144a1f6fd8d2ca17a180786b69acc140d282b71a49"
  },
  "kernelspec": {
   "display_name": "Python 3.9.5 64-bit",
   "language": "python",
   "name": "python3"
  },
  "language_info": {
   "codemirror_mode": {
    "name": "ipython",
    "version": 3
   },
   "file_extension": ".py",
   "mimetype": "text/x-python",
   "name": "python",
   "nbconvert_exporter": "python",
   "pygments_lexer": "ipython3",
   "version": "3.9.5"
  },
  "orig_nbformat": 4
 },
 "nbformat": 4,
 "nbformat_minor": 2
}
