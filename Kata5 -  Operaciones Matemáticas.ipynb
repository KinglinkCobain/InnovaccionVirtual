{
 "cells": [
  {
   "cell_type": "markdown",
   "metadata": {},
   "source": [
    "## Ejercicio 1.- Utilizar operadores aritméticos\n",
    "Distancias de planetas al sol\n",
    "* Tierra - 149,497,870 km\n",
    "* Júpiter - 778,547,200"
   ]
  },
  {
   "cell_type": "code",
   "execution_count": 7,
   "metadata": {},
   "outputs": [],
   "source": [
    "# Creacion de variables que almacenan distancias \n",
    "dis_tierra = 149597870\n",
    "dis_jupiter = 778547200"
   ]
  },
  {
   "cell_type": "code",
   "execution_count": 8,
   "metadata": {},
   "outputs": [],
   "source": [
    "# Calcular la distancia entre los planetas\n",
    "dis_planetas_km = dis_jupiter - dis_tierra\n",
    "dis_planetas_mi = dis_planetas_km * 0.621"
   ]
  },
  {
   "cell_type": "code",
   "execution_count": 9,
   "metadata": {},
   "outputs": [
    {
     "name": "stdout",
     "output_type": "stream",
     "text": [
      "Distancia en km: 628949330\n",
      "Distancia en mi: 390577533.93\n",
      "Distancia en mi: 390577534\n"
     ]
    }
   ],
   "source": [
    "# Comprobacion de resultados\n",
    "print(f\"Distancia en km: {dis_planetas_km}\")\n",
    "print(f\"Distancia en mi: {dis_planetas_mi}\")\n",
    "\n",
    "# Redondeamos la distancia en millas para que el resultado coincida\n",
    "dis_planetas_mi = round(dis_planetas_mi)\n",
    "print(f\"Distancia en mi: {dis_planetas_mi}\")"
   ]
  },
  {
   "cell_type": "markdown",
   "metadata": {},
   "source": [
    "## Ejercicio 2 - Convierte cadenas en números y usa valores absolutos\n"
   ]
  },
  {
   "cell_type": "code",
   "execution_count": 14,
   "metadata": {},
   "outputs": [],
   "source": [
    "# Almacenar la entrada de usuario\n",
    "planeta_a = input(\"Distancia del Planeta A al sol: \") # 57900000 - Mercurio\n",
    "planeta_b = input(\"Distancia del Planeta B al sol: \") # 4495100000 - Neptuno"
   ]
  },
  {
   "cell_type": "code",
   "execution_count": 15,
   "metadata": {},
   "outputs": [],
   "source": [
    "# Convertir cadenas a numeros enteros\n",
    "planeta_a = int(planeta_a)\n",
    "planeta_b = int(planeta_b)"
   ]
  },
  {
   "cell_type": "code",
   "execution_count": 17,
   "metadata": {},
   "outputs": [],
   "source": [
    "# Distancia entre los planetas\n",
    "dis_planetas_km = abs(planeta_a - planeta_b)\n",
    "\n",
    "# Distancia en millas\n",
    "dis_planetas_mi = round(dis_planetas_km * 0.621)"
   ]
  },
  {
   "cell_type": "code",
   "execution_count": 18,
   "metadata": {},
   "outputs": [
    {
     "name": "stdout",
     "output_type": "stream",
     "text": [
      "Distancia en km: 4437200000\n",
      "Distancia en mi: 2755501200\n"
     ]
    }
   ],
   "source": [
    "# Salida de resultados\n",
    "print(f\"Distancia en km: {dis_planetas_km}\") \n",
    "print(f\"Distancia en mi: {dis_planetas_mi}\")"
   ]
  }
 ],
 "metadata": {
  "interpreter": {
   "hash": "aee8b7b246df8f9039afb4144a1f6fd8d2ca17a180786b69acc140d282b71a49"
  },
  "kernelspec": {
   "display_name": "Python 3.9.5 64-bit",
   "language": "python",
   "name": "python3"
  },
  "language_info": {
   "codemirror_mode": {
    "name": "ipython",
    "version": 3
   },
   "file_extension": ".py",
   "mimetype": "text/x-python",
   "name": "python",
   "nbconvert_exporter": "python",
   "pygments_lexer": "ipython3",
   "version": "3.9.5"
  },
  "orig_nbformat": 4
 },
 "nbformat": 4,
 "nbformat_minor": 2
}
